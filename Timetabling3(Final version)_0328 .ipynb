{
 "cells": [
  {
   "cell_type": "code",
   "metadata": {
    "ExecuteTime": {
     "end_time": "2024-10-01T15:26:55.791851Z",
     "start_time": "2024-10-01T15:26:55.787817Z"
    }
   },
   "source": [
    "import gurobipy as gp\n",
    "import numpy as np\n",
    "import math\n",
    "import pandas as pd \n",
    "from gurobipy import GRB"
   ],
   "outputs": [],
   "execution_count": 1
  },
  {
   "cell_type": "code",
   "metadata": {
    "ExecuteTime": {
     "end_time": "2024-10-01T15:26:56.075179Z",
     "start_time": "2024-10-01T15:26:55.792855Z"
    }
   },
   "source": [
    "df1 = pd.read_excel('ExamRequirements_0326.xlsx') # Exam Information\n",
    "df2 = pd.read_excel('StudentExam_0326.xlsx') # Student Information"
   ],
   "outputs": [
    {
     "ename": "FileNotFoundError",
     "evalue": "[Errno 2] No such file or directory: 'ExamRequirements_0326.xlsx'",
     "output_type": "error",
     "traceback": [
      "\u001B[1;31m---------------------------------------------------------------------------\u001B[0m",
      "\u001B[1;31mFileNotFoundError\u001B[0m                         Traceback (most recent call last)",
      "Cell \u001B[1;32mIn[2], line 1\u001B[0m\n\u001B[1;32m----> 1\u001B[0m df1 \u001B[38;5;241m=\u001B[39m \u001B[43mpd\u001B[49m\u001B[38;5;241;43m.\u001B[39;49m\u001B[43mread_excel\u001B[49m\u001B[43m(\u001B[49m\u001B[38;5;124;43m'\u001B[39;49m\u001B[38;5;124;43mExamRequirements_0326.xlsx\u001B[39;49m\u001B[38;5;124;43m'\u001B[39;49m\u001B[43m)\u001B[49m \u001B[38;5;66;03m# Exam Information\u001B[39;00m\n\u001B[0;32m      2\u001B[0m df2 \u001B[38;5;241m=\u001B[39m pd\u001B[38;5;241m.\u001B[39mread_excel(\u001B[38;5;124m'\u001B[39m\u001B[38;5;124mStudentExam_0326.xlsx\u001B[39m\u001B[38;5;124m'\u001B[39m) \u001B[38;5;66;03m# Student Information\u001B[39;00m\n",
      "File \u001B[1;32mD:\\Python\\Lib\\site-packages\\pandas\\io\\excel\\_base.py:495\u001B[0m, in \u001B[0;36mread_excel\u001B[1;34m(io, sheet_name, header, names, index_col, usecols, dtype, engine, converters, true_values, false_values, skiprows, nrows, na_values, keep_default_na, na_filter, verbose, parse_dates, date_parser, date_format, thousands, decimal, comment, skipfooter, storage_options, dtype_backend, engine_kwargs)\u001B[0m\n\u001B[0;32m    493\u001B[0m \u001B[38;5;28;01mif\u001B[39;00m \u001B[38;5;129;01mnot\u001B[39;00m \u001B[38;5;28misinstance\u001B[39m(io, ExcelFile):\n\u001B[0;32m    494\u001B[0m     should_close \u001B[38;5;241m=\u001B[39m \u001B[38;5;28;01mTrue\u001B[39;00m\n\u001B[1;32m--> 495\u001B[0m     io \u001B[38;5;241m=\u001B[39m \u001B[43mExcelFile\u001B[49m\u001B[43m(\u001B[49m\n\u001B[0;32m    496\u001B[0m \u001B[43m        \u001B[49m\u001B[43mio\u001B[49m\u001B[43m,\u001B[49m\n\u001B[0;32m    497\u001B[0m \u001B[43m        \u001B[49m\u001B[43mstorage_options\u001B[49m\u001B[38;5;241;43m=\u001B[39;49m\u001B[43mstorage_options\u001B[49m\u001B[43m,\u001B[49m\n\u001B[0;32m    498\u001B[0m \u001B[43m        \u001B[49m\u001B[43mengine\u001B[49m\u001B[38;5;241;43m=\u001B[39;49m\u001B[43mengine\u001B[49m\u001B[43m,\u001B[49m\n\u001B[0;32m    499\u001B[0m \u001B[43m        \u001B[49m\u001B[43mengine_kwargs\u001B[49m\u001B[38;5;241;43m=\u001B[39;49m\u001B[43mengine_kwargs\u001B[49m\u001B[43m,\u001B[49m\n\u001B[0;32m    500\u001B[0m \u001B[43m    \u001B[49m\u001B[43m)\u001B[49m\n\u001B[0;32m    501\u001B[0m \u001B[38;5;28;01melif\u001B[39;00m engine \u001B[38;5;129;01mand\u001B[39;00m engine \u001B[38;5;241m!=\u001B[39m io\u001B[38;5;241m.\u001B[39mengine:\n\u001B[0;32m    502\u001B[0m     \u001B[38;5;28;01mraise\u001B[39;00m \u001B[38;5;167;01mValueError\u001B[39;00m(\n\u001B[0;32m    503\u001B[0m         \u001B[38;5;124m\"\u001B[39m\u001B[38;5;124mEngine should not be specified when passing \u001B[39m\u001B[38;5;124m\"\u001B[39m\n\u001B[0;32m    504\u001B[0m         \u001B[38;5;124m\"\u001B[39m\u001B[38;5;124man ExcelFile - ExcelFile already has the engine set\u001B[39m\u001B[38;5;124m\"\u001B[39m\n\u001B[0;32m    505\u001B[0m     )\n",
      "File \u001B[1;32mD:\\Python\\Lib\\site-packages\\pandas\\io\\excel\\_base.py:1550\u001B[0m, in \u001B[0;36mExcelFile.__init__\u001B[1;34m(self, path_or_buffer, engine, storage_options, engine_kwargs)\u001B[0m\n\u001B[0;32m   1548\u001B[0m     ext \u001B[38;5;241m=\u001B[39m \u001B[38;5;124m\"\u001B[39m\u001B[38;5;124mxls\u001B[39m\u001B[38;5;124m\"\u001B[39m\n\u001B[0;32m   1549\u001B[0m \u001B[38;5;28;01melse\u001B[39;00m:\n\u001B[1;32m-> 1550\u001B[0m     ext \u001B[38;5;241m=\u001B[39m \u001B[43minspect_excel_format\u001B[49m\u001B[43m(\u001B[49m\n\u001B[0;32m   1551\u001B[0m \u001B[43m        \u001B[49m\u001B[43mcontent_or_path\u001B[49m\u001B[38;5;241;43m=\u001B[39;49m\u001B[43mpath_or_buffer\u001B[49m\u001B[43m,\u001B[49m\u001B[43m \u001B[49m\u001B[43mstorage_options\u001B[49m\u001B[38;5;241;43m=\u001B[39;49m\u001B[43mstorage_options\u001B[49m\n\u001B[0;32m   1552\u001B[0m \u001B[43m    \u001B[49m\u001B[43m)\u001B[49m\n\u001B[0;32m   1553\u001B[0m     \u001B[38;5;28;01mif\u001B[39;00m ext \u001B[38;5;129;01mis\u001B[39;00m \u001B[38;5;28;01mNone\u001B[39;00m:\n\u001B[0;32m   1554\u001B[0m         \u001B[38;5;28;01mraise\u001B[39;00m \u001B[38;5;167;01mValueError\u001B[39;00m(\n\u001B[0;32m   1555\u001B[0m             \u001B[38;5;124m\"\u001B[39m\u001B[38;5;124mExcel file format cannot be determined, you must specify \u001B[39m\u001B[38;5;124m\"\u001B[39m\n\u001B[0;32m   1556\u001B[0m             \u001B[38;5;124m\"\u001B[39m\u001B[38;5;124man engine manually.\u001B[39m\u001B[38;5;124m\"\u001B[39m\n\u001B[0;32m   1557\u001B[0m         )\n",
      "File \u001B[1;32mD:\\Python\\Lib\\site-packages\\pandas\\io\\excel\\_base.py:1402\u001B[0m, in \u001B[0;36minspect_excel_format\u001B[1;34m(content_or_path, storage_options)\u001B[0m\n\u001B[0;32m   1399\u001B[0m \u001B[38;5;28;01mif\u001B[39;00m \u001B[38;5;28misinstance\u001B[39m(content_or_path, \u001B[38;5;28mbytes\u001B[39m):\n\u001B[0;32m   1400\u001B[0m     content_or_path \u001B[38;5;241m=\u001B[39m BytesIO(content_or_path)\n\u001B[1;32m-> 1402\u001B[0m \u001B[38;5;28;01mwith\u001B[39;00m \u001B[43mget_handle\u001B[49m\u001B[43m(\u001B[49m\n\u001B[0;32m   1403\u001B[0m \u001B[43m    \u001B[49m\u001B[43mcontent_or_path\u001B[49m\u001B[43m,\u001B[49m\u001B[43m \u001B[49m\u001B[38;5;124;43m\"\u001B[39;49m\u001B[38;5;124;43mrb\u001B[39;49m\u001B[38;5;124;43m\"\u001B[39;49m\u001B[43m,\u001B[49m\u001B[43m \u001B[49m\u001B[43mstorage_options\u001B[49m\u001B[38;5;241;43m=\u001B[39;49m\u001B[43mstorage_options\u001B[49m\u001B[43m,\u001B[49m\u001B[43m \u001B[49m\u001B[43mis_text\u001B[49m\u001B[38;5;241;43m=\u001B[39;49m\u001B[38;5;28;43;01mFalse\u001B[39;49;00m\n\u001B[0;32m   1404\u001B[0m \u001B[43m\u001B[49m\u001B[43m)\u001B[49m \u001B[38;5;28;01mas\u001B[39;00m handle:\n\u001B[0;32m   1405\u001B[0m     stream \u001B[38;5;241m=\u001B[39m handle\u001B[38;5;241m.\u001B[39mhandle\n\u001B[0;32m   1406\u001B[0m     stream\u001B[38;5;241m.\u001B[39mseek(\u001B[38;5;241m0\u001B[39m)\n",
      "File \u001B[1;32mD:\\Python\\Lib\\site-packages\\pandas\\io\\common.py:882\u001B[0m, in \u001B[0;36mget_handle\u001B[1;34m(path_or_buf, mode, encoding, compression, memory_map, is_text, errors, storage_options)\u001B[0m\n\u001B[0;32m    873\u001B[0m         handle \u001B[38;5;241m=\u001B[39m \u001B[38;5;28mopen\u001B[39m(\n\u001B[0;32m    874\u001B[0m             handle,\n\u001B[0;32m    875\u001B[0m             ioargs\u001B[38;5;241m.\u001B[39mmode,\n\u001B[1;32m   (...)\u001B[0m\n\u001B[0;32m    878\u001B[0m             newline\u001B[38;5;241m=\u001B[39m\u001B[38;5;124m\"\u001B[39m\u001B[38;5;124m\"\u001B[39m,\n\u001B[0;32m    879\u001B[0m         )\n\u001B[0;32m    880\u001B[0m     \u001B[38;5;28;01melse\u001B[39;00m:\n\u001B[0;32m    881\u001B[0m         \u001B[38;5;66;03m# Binary mode\u001B[39;00m\n\u001B[1;32m--> 882\u001B[0m         handle \u001B[38;5;241m=\u001B[39m \u001B[38;5;28;43mopen\u001B[39;49m\u001B[43m(\u001B[49m\u001B[43mhandle\u001B[49m\u001B[43m,\u001B[49m\u001B[43m \u001B[49m\u001B[43mioargs\u001B[49m\u001B[38;5;241;43m.\u001B[39;49m\u001B[43mmode\u001B[49m\u001B[43m)\u001B[49m\n\u001B[0;32m    883\u001B[0m     handles\u001B[38;5;241m.\u001B[39mappend(handle)\n\u001B[0;32m    885\u001B[0m \u001B[38;5;66;03m# Convert BytesIO or file objects passed with an encoding\u001B[39;00m\n",
      "\u001B[1;31mFileNotFoundError\u001B[0m: [Errno 2] No such file or directory: 'ExamRequirements_0326.xlsx'"
     ]
    }
   ],
   "execution_count": 2
  },
  {
   "cell_type": "code",
   "metadata": {},
   "source": [
    "\n",
    "Course_Duration = dict(zip(df1['Course Code'], df1['Duration']))\n",
    "for course in Course_Duration:\n",
    "    Course_Duration[course] = int(Course_Duration[course].strip('Minutes'))\n",
    "Courses, Duration = gp.multidict(Course_Duration)\n"
   ],
   "outputs": [],
   "execution_count": null
  },
  {
   "cell_type": "code",
   "metadata": {},
   "source": [
    "\n",
    "Course_Duration"
   ],
   "outputs": [],
   "execution_count": null
  },
  {
   "cell_type": "code",
   "metadata": {},
   "source": [
    "ID_Course = df2.groupby('SID')['Course Code'].apply(set).to_dict() \n",
    "Course_ID = df2.groupby('Course Code')['SID'].apply(set).to_dict()\n"
   ],
   "outputs": [],
   "execution_count": null
  },
  {
   "cell_type": "code",
   "metadata": {},
   "source": [
    "Course_ID[\"MED2040\"] & Course_ID[\"PHM2002\"]\n"
   ],
   "outputs": [],
   "execution_count": null
  },
  {
   "cell_type": "code",
   "metadata": {},
   "source": [
    "NumberofCourses = len(Courses)\n",
    "Timeslots = range(24)# everyday has three time slots 8:30, 13:30, 18:30(totally 3*8 slots)\n",
    "CourseCapacity = {i:len(Course_ID[i]) for i in Courses}\n",
    "Sharing = dict()\n",
    "for i in Courses:\n",
    "    for j in Courses:\n",
    "        if i == j:\n",
    "            Sharing[i,j] = 0\n",
    "        else:\n",
    "            Sharing[i,j] = len(Course_ID[i] & Course_ID[j])\n",
    "CoursePair, Sharing = gp.multidict(Sharing)\n",
    "\n",
    "\n",
    "Small_Courses = [course for course in Courses if CourseCapacity[course]<=100]\n",
    "\n"
   ],
   "outputs": [],
   "execution_count": null
  },
  {
   "cell_type": "code",
   "metadata": {},
   "source": [
    "count = 0 \n",
    "for i in Sharing :\n",
    "    if Sharing[i] > 0 :\n",
    "        count += 1\n",
    "count"
   ],
   "outputs": [],
   "execution_count": null
  },
  {
   "cell_type": "code",
   "metadata": {},
   "source": [
    "\n",
    "TriSharing = dict()\n",
    "for i in Courses:\n",
    "    for j in Courses:\n",
    "        for k in Courses:\n",
    "            if (i == j) or (i == k) or (j == k):\n",
    "                TriSharing[i,j,k] = 0\n",
    "            else:\n",
    "                TriSharing[i,j,k] = len(Course_ID[i] & Course_ID[j]& Course_ID[k])\n",
    "TriCourse, TriSharing = gp.multidict(TriSharing)"
   ],
   "outputs": [],
   "execution_count": null
  },
  {
   "cell_type": "code",
   "metadata": {},
   "source": [
    "t_830 = [0,3,6,9,12,15,18,21]\n",
    "t_1330 = [i+1 for i in t_830]\n",
    "t_1830 = [i+2 for i in t_830]\n",
    "d1 = [0,1,2]\n",
    "d2 = [3,4,5]\n",
    "d3 = [6,7,8]\n",
    "d4 = [9,10,11]\n",
    "d5 = [12,13,14]\n",
    "d6 = [15,16,17]\n",
    "d7 = [18,19,20]\n",
    "d8 = [21,22,23]\n"
   ],
   "outputs": [],
   "execution_count": null
  },
  {
   "cell_type": "code",
   "metadata": {},
   "source": [
    "exam = gp.Model()\n",
    "# Here we set the time limit as 20 min or 30 min to lower the gap. \n",
    "# totally we have 42w constrains, which takes us a long time to solve it.\n",
    "exam.params.timelimit=10*60\n",
    "\n",
    "\n",
    "start_time = exam.addVars(Courses,Timeslots,vtype='B',name='start')\n",
    "robust_variable = exam.addVar(vtype='C',name='robust')\n",
    "# y = exam.addVars(Courses,lb=0,name='y')\n",
    "\n",
    "small_course_robust = exam.addVar(vtype='C',name='small_robust')"
   ],
   "outputs": [],
   "execution_count": null
  },
  {
   "cell_type": "code",
   "metadata": {},
   "source": [
    "def special_constraint(p_course, p_candidate, p_suggest):\n",
    "    l_sum = gp.LinExpr()\n",
    "    for k in p_candidate:\n",
    "        l_sum += start_time[p_course,k]\n",
    "    if p_suggest == True:\n",
    "        # exam.addConstr(gp.quicksum(start_time[p_course,k]==1 for k in p_candidate))\n",
    "\n",
    "        exam.addConstr(l_sum==1)\n",
    "    else:\n",
    "        # exam.addConstr(gp.quicksum(start_time[p_course,k]==0 for k in p_candidate))\n",
    "        exam.addConstr(l_sum==0)\n",
    "    exam.update()\n",
    "\n",
    "# the sum of exams in the weekend \n",
    "tail_sum = gp.LinExpr()\n",
    "for k in d1+d2+d7+d8:\n",
    "    for course in Courses:\n",
    "        tail_sum += start_time[course,k]*CourseCapacity[course]\n",
    "# make this sum small ASAP\n",
    "\n",
    "small_course_sum = dict()\n",
    "for k in Timeslots:\n",
    "    small_course_sum[k] = gp.LinExpr()\n",
    "    for course in Small_Courses:\n",
    "            small_course_sum[k] += start_time[course,k]*CourseCapacity[course]"
   ],
   "outputs": [],
   "execution_count": null
  },
  {
   "cell_type": "code",
   "metadata": {},
   "source": [
    "# No three successive exams \n",
    "for i in Courses:\n",
    "    for j in Courses:\n",
    "        for p in Courses:\n",
    "            if TriSharing[i,j,p]>0:\n",
    "                for k in t_830:\n",
    "                    exam.addConstr(start_time[i,k]+start_time[j,k+1]+start_time[p,k+2]<=2)"
   ],
   "outputs": [],
   "execution_count": null
  },
  {
   "cell_type": "code",
   "metadata": {},
   "source": [
    "exam.addConstrs(start_time.sum(i,'*')==1 for i in Courses)\n",
    "\n",
    "# add constrain that no exam on weekend night\n",
    "for i in Courses :\n",
    "    exam.addConstr(start_time[i,2] + start_time[i,5] + start_time[i,20] + start_time[i,23]  == 0)\n",
    "\n",
    "# no exams overlaping\n",
    "for i in Courses:\n",
    "    for j in Courses:\n",
    "        if Sharing[i,j]>0:\n",
    "            for k in Timeslots:\n",
    "                exam.addConstr(start_time[i,k]+start_time[j,k]<=1)\n",
    "\n",
    "\n",
    "# maximum of student number is 1400 in one day\n",
    "exam.addConstrs(gp.quicksum(start_time[i,j]*CourseCapacity[i] for i in Courses)<=1400 for j in Timeslots)\n",
    "# exam.addConstrs(gp.quicksum(start_time[i,j]*CourseCapacity[i] for i in Courses) >=500 for j in [0,1])\n",
    "# maximum of student number is 500 in the night\n",
    "exam.addConstrs(gp.quicksum(start_time[i,3*j+2]*CourseCapacity[i] for i in Courses)<=500 for j in range(8))\n",
    "\n",
    "#  maximum of student number is 500 in the last day\n",
    "exam.addConstrs(gp.quicksum(start_time[i,j]*CourseCapacity[i] for i in Courses)<= 200 for j in d8)\n",
    "\n",
    "\n",
    "exam.addConstrs(small_course_sum[k] <= small_course_robust for k in Timeslots)\n",
    "\n",
    "\n",
    "# for course in Courses:\n",
    "#     if CourseCapacity[course]>=150:\n",
    "#         special_constraint(course,d1+d8,False)\n",
    "\n",
    "\n",
    "# some special constrains     \n",
    "\n",
    "# Course requirement\n",
    "special_constraint(\"PHY1001\", d1+d2+d3+d4+d5+d6, True)# Before 17th\n",
    "special_constraint(\"FIN2010\", d1+d2, True) # First two days\n",
    "special_constraint(\"MAT2040\", d5+d6, True) # in 15th or 16th\n",
    "special_constraint('ECO3121', d1+d2+d3, True) #ASAP\n",
    "special_constraint('BIO1001', [6], True) # 13th morning\n",
    "special_constraint('MED2002', [0], True) # 11TH MAY 8:30-11:30 \n",
    "special_constraint('MED2012', [3], True) # 12TH MAY 8:30-11:30\n",
    "special_constraint('MED2040', [9], True) # 14TH MAY 8:30-10:30\n",
    "special_constraint('MED2060', [6], True) # 13TH MAY 8:30-10:30\n",
    "special_constraint('BIO2004', [12], True) # 15 MAY, IN THE MORNING\n",
    "special_constraint('MED2030', [12], True) # 15TH MAY 8:30-10:30\n",
    "special_constraint('MED2100', [13], True) # 15TH MAY 14:00-15:00\n",
    "special_constraint('MED1002', [3], True) # 12TH MAY 9:00-12:00 \n",
    "special_constraint('MED1012', [0], True) # 11TH MAY 9:00-12:00\n",
    "special_constraint('MED1022', [6], True) # 13TH MAY 9:00-11:00\n",
    "special_constraint('MED1032', [9], True)# 14TH MAY 9:00-11:00\n",
    "special_constraint('PHM2002', [9],True) # 14th 8:30-10:30\n",
    "                   \n",
    "\n",
    "\n",
    "\n",
    "# Scheduling requirement\n",
    "special_constraint('MAT1002',[0,1,3,4]+d3,True)#ASAP \n",
    "special_constraint('PHY1001',[0,1,3,4]+d3,True)#ASAP \n",
    "special_constraint('FIN2010',[0,1,3,4]+d3,True)#ASAP\n",
    "special_constraint('DMS2030',[0,1,3,4]+d3,True)#ASAP  \n",
    "special_constraint('ECO2121',[0,1,3,4]+d3,True)#ASAP \n",
    "\n",
    "# CSJ special constrains     \n",
    "special_constraint(\"FIN2010\", [1,2]+d1, True) # 11TH MAY 13:30\n",
    "special_constraint(\"DDA4210\", d3, True) # 13TH MAY 18:30\n",
    "# special_constraint(\"DMS2030\", d4, True) # 14TH MAY 13:30\n",
    "special_constraint(\"STA3005\", d5+d6+d7, True) # 15TH MAY 13:30\n",
    "special_constraint(\"CSC3100\", d5+d6+d7, True) # 17TH MAY 13:30\n",
    "\n",
    "\n",
    "\n",
    "\n",
    "# exam.addConstr(evening_sum==0)\n",
    "# exam.addConstrs(slot_sum[k]<=800 for k in Timeslots)\n",
    "# exam.addConstrs(start_time.sum('*',j)>= robust_variable for j in Timeslots)\n",
    "# exam.setObjective(10*robust_variable-1/8*tail_sum,sense=GRB.MAXIMIZE)\n",
    "exam.setObjective(1/2*tail_sum+small_course_robust,sense=GRB.MINIMIZE)\n",
    "exam.optimize()"
   ],
   "outputs": [],
   "execution_count": null
  },
  {
   "cell_type": "code",
   "metadata": {},
   "source": [
    "def busy(schedule):\n",
    "    if len(schedule)==1:\n",
    "        return False\n",
    "    elif len(schedule)==2:\n",
    "        return schedule[1]-schedule[0]<=1\n",
    "    else:\n",
    "        for i in range(1,len(schedule)-1):\n",
    "            if schedule[i]-schedule[i-1]==1 and schedule[i+1]-schedule[i]==1:\n",
    "                return True"
   ],
   "outputs": [],
   "execution_count": null
  },
  {
   "cell_type": "code",
   "metadata": {},
   "source": [
    "Schedule = {}\n",
    "for i in Courses:\n",
    "    for j in Timeslots:\n",
    "        if exam.getVarByName('start[{},{}]'.format(i,j)).X>0:\n",
    "            Schedule[i]=j"
   ],
   "outputs": [],
   "execution_count": null
  },
  {
   "cell_type": "code",
   "metadata": {},
   "source": [
    "len(ID_Course)"
   ],
   "outputs": [],
   "execution_count": null
  },
  {
   "cell_type": "code",
   "metadata": {},
   "source": [
    "small_course_robust.X"
   ],
   "outputs": [],
   "execution_count": null
  },
  {
   "cell_type": "code",
   "metadata": {},
   "source": [
    "# check the rate of the non-zero terms\n",
    "\n",
    "count = 0\n",
    "nonzero = 0\n",
    "for i in TriCourse :\n",
    "    count += 1\n",
    "    if TriSharing[i] > 0 :\n",
    "        nonzero += 1\n",
    "\n",
    "# totally we have 778688 triple tumples and alomst 14418 of them has value bigger than 1\n",
    "# the rate is 1.8%"
   ],
   "outputs": [],
   "execution_count": null
  },
  {
   "cell_type": "code",
   "metadata": {},
   "source": [
    "count"
   ],
   "outputs": [],
   "execution_count": null
  },
  {
   "cell_type": "code",
   "metadata": {},
   "source": [
    "nonzero"
   ],
   "outputs": [],
   "execution_count": null
  },
  {
   "cell_type": "code",
   "metadata": {},
   "source": [
    "tail_sum.getValue()"
   ],
   "outputs": [],
   "execution_count": null
  },
  {
   "cell_type": "code",
   "metadata": {},
   "source": [
    "day1 =  [0,1,2]\n",
    "day2 =  [3,4,5]\n",
    "day3 =  [6,7,8]\n",
    "day4 =  [9,10,11]\n",
    "day5 =  [12,13,14]\n",
    "day6 =  [15,16,17]\n",
    "day7 =  [18,19,20]\n",
    "day8 =  [21,22,23]\n",
    "days = [day1,day2,day3,day4,day5,day6,day7,day8]\n",
    "def busy2(Schedule):\n",
    "    for day in days:\n",
    "        if len(set(Schedule) & set(day))>=3:\n",
    "            return True\n",
    "    else:\n",
    "        return False"
   ],
   "outputs": [],
   "execution_count": null
  },
  {
   "cell_type": "code",
   "metadata": {},
   "source": [
    "StudentSchedule = {}\n",
    "for student in ID_Course:\n",
    "    temp = list()\n",
    "    for course in ID_Course[student]:\n",
    "        temp.append(Schedule[course])\n",
    "    StudentSchedule[student]=sorted(temp)\n",
    "counter = 0\n",
    "for student in StudentSchedule:\n",
    "    if busy(StudentSchedule[student]):\n",
    "        counter+=1\n",
    "        \n",
    "        # print(student,ID_Course[student],StudentSchedule[student])\n",
    "counter1 = 0\n",
    "for student in StudentSchedule:\n",
    "    i = StudentSchedule[student]\n",
    "    if busy2(i):\n",
    "        counter1 +=1\n",
    "        print(student,i,ID_Course[student])\n",
    "# showing the consecutive exams of student \n",
    "counter1 "
   ],
   "outputs": [],
   "execution_count": null
  },
  {
   "cell_type": "code",
   "metadata": {},
   "source": [
    "counter"
   ],
   "outputs": [],
   "execution_count": null
  },
  {
   "cell_type": "code",
   "metadata": {},
   "source": [
    "for student in ID_Course:\n",
    "    if len(ID_Course[student])>=5:\n",
    "        print(ID_Course[student])"
   ],
   "outputs": [],
   "execution_count": null
  },
  {
   "cell_type": "code",
   "metadata": {},
   "source": [
    "for j in Timeslots:\n",
    "    count = 0\n",
    "    for i in Courses:\n",
    "        count += start_time[i,j].X\n",
    "    print(count)"
   ],
   "outputs": [],
   "execution_count": null
  },
  {
   "cell_type": "code",
   "metadata": {},
   "source": [
    "[gp.quicksum(start_time[i,j].X*CourseCapacity[i] for i in Courses) for j in Timeslots]"
   ],
   "outputs": [],
   "execution_count": null
  },
  {
   "cell_type": "code",
   "metadata": {},
   "source": [
    "exam.write('exam(gurobi).mps')"
   ],
   "outputs": [],
   "execution_count": null
  },
  {
   "cell_type": "code",
   "metadata": {},
   "source": [
    "import xlwt\n",
    "wb= xlwt.Workbook(encoding='uts-8')\n",
    "# set the style of the excel\n",
    "style = xlwt.XFStyle()#the label (first row)\n",
    "style1 = xlwt.XFStyle()#the even days\n",
    "style2 = xlwt.XFStyle()#the odd days\n",
    "\n",
    "font_label = xlwt.Font()\n",
    "font_label.name= \"Calibri\"\n",
    "font_label.bold = True\n",
    "font_label.height = 240\n",
    "\n",
    "font = xlwt.Font()\n",
    "font.name= \"Calibri\"\n",
    "font.bold = False\n",
    "font.height = 240\n",
    "\n",
    "border = xlwt.Borders()\n",
    "border.top = xlwt.Borders.THIN\n",
    "border.bottom = xlwt.Borders.THIN\n",
    "border.left = xlwt.Borders.THIN\n",
    "border.right= xlwt.Borders.THIN\n",
    "\n",
    "pattern1 = xlwt.Pattern()\n",
    "pattern1.pattern = xlwt.Pattern.SOLID_PATTERN\n",
    "pattern1.pattern_fore_colour = 22\n",
    "\n",
    "alignment = xlwt.Alignment()\n",
    "alignment.vert = 0x00\n",
    "alignment.horz = 0x00\n",
    "\n",
    "style.font = font_label\n",
    "style.alignment = alignment\n",
    "style.borders = border\n",
    "style1.font = font\n",
    "style1.pattern = pattern1\n",
    "style1.borders = border\n",
    "style2.font = font\n",
    "style2.borders = border\n",
    "#set the colomn wideth\n",
    "sheet1 = wb.add_sheet('outcome',cell_overwrite_ok=True)\n",
    "sheet1.col(0).width = 256*35\n",
    "sheet1.col(1).width = 256*18\n",
    "sheet1.col(2).width = 256*18\n",
    "sheet1.col(3).width = 256*17\n",
    "sheet1.col(4).width = 256*17\n",
    "sheet1.col(5).width = 256*17\n",
    "# write the labels\n",
    "sheet1.write(0,0,'Exam Date(timeslot)',style)\n",
    "sheet1.write(0,1,'Start Time',style)\n",
    "sheet1.write(0,2,'End Time',style)\n",
    "sheet1.write(0,3,'Course Code',style)\n",
    "sheet1.write(0,4,'Capacity',style)\n",
    "sheet1.write(0,5,'Room Number',style)\n",
    "wb.save(\"test.xlsx\")\n",
    "\n",
    "starttime_dic={0:\"8:30\",1:\"13:30\",2:\"18:30\",}\n",
    "line = 1# this also represents the index of an exam\n",
    "for j in Timeslots :\n",
    "    for i in Courses : \n",
    "        if start_time[i,j].X > 0.5 :\n",
    "            #check whether it is a odd day\n",
    "            if (j//3+1)%2 == 0 :#even day\n",
    "                sheet1.write(line,0,\"Day\"+ str(j//3+1),style1)\n",
    "                sheet1.write(line,1,starttime_dic.get(j%3),style1)\n",
    "                sheet1.write(line,3,i,style1)\n",
    "                # get the end time of the exams\n",
    "                start_hour,start_minute = starttime_dic.get(j%3).split(\":\")\n",
    "                end_minute = (int(start_minute) + int(Duration.get(i)))%60\n",
    "                end_hour = (int(start_minute) + int(Duration.get(i)))//60 + int(start_hour)\n",
    "                if end_minute == 0 : \n",
    "                    sheet1.write(line,2,str(end_hour)+\":00\",style1)\n",
    "                else :\n",
    "                    sheet1.write(line,2,str(end_hour)+\":30\",style1)\n",
    "                #sheet1.write(line,4,Duration.get(i),style1) #show the duration if needed\n",
    "                sheet1.write(line,4,CourseCapacity[i],style1) #show the capacity if needed\n",
    "                sheet1.write(line,5,((CourseCapacity[i]-0.001)//30+1),style1) #show the capacity if needed\n",
    "            else :#odd day\n",
    "                sheet1.write(line,0,\"Day\"+ str(j//3+1),style2)\n",
    "                sheet1.write(line,1,starttime_dic.get(j%3),style2)\n",
    "                sheet1.write(line,3,i,style2)\n",
    "                # get the end time of the exams\n",
    "                start_hour,start_minute = starttime_dic.get(j%3).split(\":\")\n",
    "                end_minute = (int(start_minute)+ int(Duration.get(i)))%60\n",
    "                end_hour = (int(start_minute)+ int(Duration.get(i)))//60 + int(start_hour)\n",
    "                if end_minute == 0 : \n",
    "                    sheet1.write(line,2,str(end_hour)+\":00\",style2)\n",
    "                else :\n",
    "                    sheet1.write(line,2,str(end_hour)+\":30\",style2)\n",
    "                #sheet1.write(line,4,Duration.get(i),style2) #show the duration if needed\n",
    "                sheet1.write(line,4,CourseCapacity[i],style2) #show the capacity if needed\n",
    "                sheet1.write(line,5,((CourseCapacity[i]-0.001)//30+1),style2) #show the capacity if needed\n",
    "            line += 1\n",
    "wb.save(\"test.xlsx\")\n",
    "\n",
    "#this sheet2 shows the students' number in each slot\n",
    "\n",
    "sheet2 = wb.add_sheet('statistics data',cell_overwrite_ok=True)\n",
    "\n",
    "sheet2.col(0).width = 256*15\n",
    "sheet2.col(1).width = 256*20\n",
    "sheet2.col(2).width = 256*35\n",
    "sheet2.col(3).width = 256*35\n",
    "\n",
    "sheet2.write(0,0,'Timeslot',style)\n",
    "sheet2.write(0,1,'Number of exams',style)\n",
    "sheet2.write(0,2,'Total number of students',style)\n",
    "sheet2.write(0,3,'maximum number in the slot',style)\n",
    "\n",
    "wb.save(\"test.xlsx\")\n",
    "\n",
    "for j in Timeslots :\n",
    "    sheet2.write(j+1,0,j+1,style2)\n",
    "    count = 0\n",
    "    studentNum = 0\n",
    "    temp = 0\n",
    "    for i in Courses :\n",
    "        count += start_time[i,j].X\n",
    "    sheet2.write(j+1,1,count,style2)\n",
    "    for i in Courses :\n",
    "        studentNum += start_time[i,j].X*CourseCapacity[i]\n",
    "    sheet2.write(j+1,2,studentNum,style2)\n",
    "    for i in Courses :\n",
    "        if start_time[i,j].X*CourseCapacity[i] > temp :\n",
    "            temp = int(start_time[i,j].X*CourseCapacity[i])\n",
    "    sheet2.write(j+1,3,temp,style2)\n",
    "\n",
    "wb.save(\"test.xlsx\")\n"
   ],
   "outputs": [],
   "execution_count": null
  },
  {
   "cell_type": "code",
   "metadata": {},
   "source": [],
   "outputs": [],
   "execution_count": null
  },
  {
   "cell_type": "code",
   "metadata": {},
   "source": [],
   "outputs": [],
   "execution_count": null
  }
 ],
 "metadata": {
  "kernelspec": {
   "display_name": "Python 3",
   "language": "python",
   "name": "python3"
  },
  "language_info": {
   "codemirror_mode": {
    "name": "ipython",
    "version": 3
   },
   "file_extension": ".py",
   "mimetype": "text/x-python",
   "name": "python",
   "nbconvert_exporter": "python",
   "pygments_lexer": "ipython3",
   "version": "3.9.7"
  },
  "toc": {
   "base_numbering": 1,
   "nav_menu": {},
   "number_sections": true,
   "sideBar": true,
   "skip_h1_title": false,
   "title_cell": "Table of Contents",
   "title_sidebar": "Contents",
   "toc_cell": false,
   "toc_position": {},
   "toc_section_display": true,
   "toc_window_display": false
  },
  "vscode": {
   "interpreter": {
    "hash": "e952f3f3b0740b9aa52f718669564e989426e2044d90ed4082f4796055a10afb"
   }
  }
 },
 "nbformat": 4,
 "nbformat_minor": 4
}
